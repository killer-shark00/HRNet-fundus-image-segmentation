{
  "nbformat": 4,
  "nbformat_minor": 0,
  "metadata": {
    "colab": {
      "provenance": [],
      "authorship_tag": "ABX9TyOgUR6eGPniwsTVAJtKsFxs",
      "include_colab_link": true
    },
    "kernelspec": {
      "name": "python3",
      "display_name": "Python 3"
    },
    "language_info": {
      "name": "python"
    }
  },
  "cells": [
    {
      "cell_type": "markdown",
      "metadata": {
        "id": "view-in-github",
        "colab_type": "text"
      },
      "source": [
        "<a href=\"https://colab.research.google.com/github/yd-14/HRNet-fundus-image-segmentation/blob/main/GT_separation.ipynb\" target=\"_parent\"><img src=\"https://colab.research.google.com/assets/colab-badge.svg\" alt=\"Open In Colab\"/></a>"
      ]
    },
    {
      "cell_type": "markdown",
      "source": [
        "## Move data to desired folder (needed only once)"
      ],
      "metadata": {
        "id": "Uo4O2XefnczQ"
      }
    },
    {
      "cell_type": "code",
      "source": [
        "# import os\n",
        "# import shutil\n",
        "# import random\n",
        "# import glob\n",
        "# path='/content/gdrive/MyDrive/MiniProjectDataset/Refuge/train'\n",
        "# subpath='/OD_gts/glaucoma/'\n",
        "# os.makedirs(path+subpath)\n",
        "# for i in glob.glob('/content/gdrive/MyDrive/Drive Tugas Akhir/Dataset/REFUGE/Training/gts/g????_OD_img.png'):\n",
        "#         shutil.move(i, path+subpath)"
      ],
      "metadata": {
        "id": "SJsMHkxvjYL3"
      },
      "execution_count": null,
      "outputs": []
    },
    {
      "cell_type": "markdown",
      "source": [
        "#Separate OC and OD GTs"
      ],
      "metadata": {
        "id": "GN9kjTiHORLg"
      }
    },
    {
      "cell_type": "code",
      "source": [
        "# import numpy as np\n",
        "# import cv2\n",
        "# def separateGT(path):\n",
        "#   mask = cv2.imread(path, 0)\n",
        "#   h, w = mask.shape\n",
        "\n",
        "#   OD_mask = np.zeros([h, w], np.uint8)\n",
        "#   OC_mask = np.zeros([h, w], np.uint8)\n",
        "#   OD_mask[mask<=192] = 255\n",
        "#   OC_mask[mask<=64] = 255\n",
        "\n",
        "#   return OD_mask, OC_mask"
      ],
      "metadata": {
        "id": "0nbVlHcXOaoz"
      },
      "execution_count": null,
      "outputs": []
    },
    {
      "cell_type": "code",
      "source": [
        "# import os\n",
        "# import shutil\n",
        "# import random\n",
        "# import glob\n",
        "# path='/content/gdrive/MyDrive/MiniProjectDataset/Refuge'\n",
        "# subpath='/train/gts/normal'\n",
        "# os.makedirs(path+subpath)\n",
        "# for i in glob.glob('/content/gdrive/MyDrive/MiniProjectDataset/Refuge/train/combined_gts/n????.bmp'):\n",
        "#         OD_mask, OC_mask=separatedGT(i)"
      ],
      "metadata": {
        "id": "JpcZ7r12OtdM"
      },
      "execution_count": null,
      "outputs": []
    }
  ]
}